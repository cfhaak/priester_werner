{
 "cells": [
  {
   "cell_type": "code",
   "execution_count": 2,
   "id": "cebc512e",
   "metadata": {},
   "outputs": [],
   "source": [
    "from xml_aligner import XMLFileString\n",
    "from collatex import Collation, collate"
   ]
  },
  {
   "cell_type": "code",
   "execution_count": 3,
   "id": "f8130922",
   "metadata": {},
   "outputs": [
    {
     "name": "stdout",
     "output_type": "stream",
     "text": [
      "cwd: /home/cfh/Dokumente/projects/priester_werner/pyscripts\n",
      "cwd: /home/cfh/Dokumente/projects/priester_werner/pyscripts\n",
      "\n",
      "\n",
      "check if the text in both strings is the same (was too lazy to implement this):\n",
      "\n",
      "\n",
      "rinnerungen gehört, und welche Rolle bei vers\n",
      "\n",
      " ------------------------------------------------------------ \n",
      "\n",
      "rinnerungen gehört, und welche Rolle bei<lb/> vers\n",
      "\n",
      "\n",
      "check if the text in both strings is the same (was too lazy to implement this):\n",
      "\n",
      "\n",
      "ieben waren, in späte Jahre des Betreffenden \n",
      "\n",
      " ------------------------------------------------------------ \n",
      "\n",
      "ieben waren, in späte Jahre des Betreffenden<lb/> \n"
     ]
    }
   ],
   "source": [
    "xfstr_1 = XMLFileString(\n",
    "    file_path=\"../data/editions/sfe-1901-002__1901.1.xml\",\n",
    "    text_container_xpath=\"//tei:body/tei:div[1]\"\n",
    ")\n",
    "xfstr_2 = XMLFileString(\n",
    "    file_path=\"../data/editions/sfe-1901-002__1901.3.xml\",\n",
    "    text_container_xpath=\"//tei:body/tei:div[1]\"\n",
    ")\n",
    "\n",
    "xfstr_1.result_test()\n",
    "xfstr_2.result_test()\n",
    "\n"
   ]
  },
  {
   "cell_type": "code",
   "execution_count": null,
   "id": "3afef0ae",
   "metadata": {},
   "outputs": [],
   "source": [
    "collation = Collation()\n",
    "collation.add_plain_witness(\"witness1\", xfstr_1.text_string)\n",
    "collation.add_plain_witness(\"witness2\", xfstr_2.text_string)\n",
    "alignment_table = collate(collation)"
   ]
  },
  {
   "cell_type": "code",
   "execution_count": null,
   "id": "6d67d193",
   "metadata": {},
   "outputs": [
    {
     "ename": "NameError",
     "evalue": "name 'alignment_table' is not defined",
     "output_type": "error",
     "traceback": [
      "\u001b[31m---------------------------------------------------------------------------\u001b[39m",
      "\u001b[31mNameError\u001b[39m                                 Traceback (most recent call last)",
      "\u001b[36mCell\u001b[39m\u001b[36m \u001b[39m\u001b[32mIn[1]\u001b[39m\u001b[32m, line 1\u001b[39m\n\u001b[32m----> \u001b[39m\u001b[32m1\u001b[39m \u001b[38;5;28mprint\u001b[39m(\u001b[43malignment_table\u001b[49m)\n",
      "\u001b[31mNameError\u001b[39m: name 'alignment_table' is not defined"
     ]
    }
   ],
   "source": [
    "print(alignment_table)"
   ]
  }
 ],
 "metadata": {
  "kernelspec": {
   "display_name": ".venv",
   "language": "python",
   "name": "python3"
  },
  "language_info": {
   "codemirror_mode": {
    "name": "ipython",
    "version": 3
   },
   "file_extension": ".py",
   "mimetype": "text/x-python",
   "name": "python",
   "nbconvert_exporter": "python",
   "pygments_lexer": "ipython3",
   "version": "3.12.3"
  }
 },
 "nbformat": 4,
 "nbformat_minor": 5
}
