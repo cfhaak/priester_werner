{
 "cells": [
  {
   "cell_type": "code",
   "execution_count": 3,
   "id": "50940a95",
   "metadata": {},
   "outputs": [],
   "source": [
    "from xml_text_extractor import Witness"
   ]
  },
  {
   "cell_type": "code",
   "execution_count": 4,
   "id": "87417006",
   "metadata": {},
   "outputs": [
    {
     "name": "stdout",
     "output_type": "stream",
     "text": [
      "checking results\n",
      "\n",
      "generating collatex data for witness_1\n",
      "generating collatex data for witness_2\n",
      "collatex adding witness witness_1 chunck 1\n",
      "collatex adding witness witness_2 chunck 1\n",
      "Creating alignment table 1 of 1. This might take loooooong.\n",
      "\tdone\n"
     ]
    },
    {
     "name": "stderr",
     "output_type": "stream",
     "text": [
      "  0%|          | 0/2265 [00:00<?, ?it/s]\n"
     ]
    },
    {
     "ename": "UnboundLocalError",
     "evalue": "cannot access local variable 'w1_current_string_index' where it is not associated with a value",
     "output_type": "error",
     "traceback": [
      "\u001b[31m---------------------------------------------------------------------------\u001b[39m",
      "\u001b[31mUnboundLocalError\u001b[39m                         Traceback (most recent call last)",
      "\u001b[36mCell\u001b[39m\u001b[36m \u001b[39m\u001b[32mIn[4]\u001b[39m\u001b[32m, line 29\u001b[39m\n\u001b[32m     21\u001b[39m     witness_2 = Witness(\n\u001b[32m     22\u001b[39m         file_path=\u001b[33m\"\u001b[39m\u001b[33m../data/source/sfe-1901-002__1901.3_sections.xml\u001b[39m\u001b[33m\"\u001b[39m,\n\u001b[32m     23\u001b[39m         text_container_xpath=xpath_expr,\n\u001b[32m     24\u001b[39m         sigil=\u001b[33m\"\u001b[39m\u001b[33mwitness_2\u001b[39m\u001b[33m\"\u001b[39m,\n\u001b[32m     25\u001b[39m     )\n\u001b[32m     26\u001b[39m     witness_1.collatex_with_witness(witness_2, test=\u001b[38;5;28;01mTrue\u001b[39;00m)\n\u001b[32m---> \u001b[39m\u001b[32m29\u001b[39m \u001b[43mtest2\u001b[49m\u001b[43m(\u001b[49m\u001b[43m)\u001b[49m\n",
      "\u001b[36mCell\u001b[39m\u001b[36m \u001b[39m\u001b[32mIn[4]\u001b[39m\u001b[32m, line 26\u001b[39m, in \u001b[36mtest2\u001b[39m\u001b[34m()\u001b[39m\n\u001b[32m     16\u001b[39m witness_1 = Witness(\n\u001b[32m     17\u001b[39m     file_path=\u001b[33m\"\u001b[39m\u001b[33m../data/source/sfe-1901-002__1901.1_sections.xml\u001b[39m\u001b[33m\"\u001b[39m,\n\u001b[32m     18\u001b[39m     text_container_xpath=xpath_expr,\n\u001b[32m     19\u001b[39m     sigil=\u001b[33m\"\u001b[39m\u001b[33mwitness_1\u001b[39m\u001b[33m\"\u001b[39m,\n\u001b[32m     20\u001b[39m )\n\u001b[32m     21\u001b[39m witness_2 = Witness(\n\u001b[32m     22\u001b[39m     file_path=\u001b[33m\"\u001b[39m\u001b[33m../data/source/sfe-1901-002__1901.3_sections.xml\u001b[39m\u001b[33m\"\u001b[39m,\n\u001b[32m     23\u001b[39m     text_container_xpath=xpath_expr,\n\u001b[32m     24\u001b[39m     sigil=\u001b[33m\"\u001b[39m\u001b[33mwitness_2\u001b[39m\u001b[33m\"\u001b[39m,\n\u001b[32m     25\u001b[39m )\n\u001b[32m---> \u001b[39m\u001b[32m26\u001b[39m \u001b[43mwitness_1\u001b[49m\u001b[43m.\u001b[49m\u001b[43mcollatex_with_witness\u001b[49m\u001b[43m(\u001b[49m\u001b[43mwitness_2\u001b[49m\u001b[43m,\u001b[49m\u001b[43m \u001b[49m\u001b[43mtest\u001b[49m\u001b[43m=\u001b[49m\u001b[38;5;28;43;01mTrue\u001b[39;49;00m\u001b[43m)\u001b[49m\n",
      "\u001b[36mFile \u001b[39m\u001b[32m~/Dokumente/projects/priester_werner/pyscripts/xml_text_extractor.py:148\u001b[39m, in \u001b[36mWitness.collatex_with_witness\u001b[39m\u001b[34m(self, witness, ignore_whitespace, test)\u001b[39m\n\u001b[32m    146\u001b[39m tag = Tag(\u001b[33m\"\u001b[39m\u001b[33mdifftest_none\u001b[39m\u001b[33m\"\u001b[39m)\n\u001b[32m    147\u001b[39m tag.add_attribute(\u001b[33m\"\u001b[39m\u001b[33mw1_has\u001b[39m\u001b[33m\"\u001b[39m, token_from_1)\n\u001b[32m--> \u001b[39m\u001b[32m148\u001b[39m w1_chunck.insert_tag(tag, \u001b[43mw1_current_string_index\u001b[49m)\n\u001b[32m    149\u001b[39m full_token_1 = token[\u001b[32m0\u001b[39m][\u001b[33m\"\u001b[39m\u001b[33mt\u001b[39m\u001b[33m\"\u001b[39m]\n\u001b[32m    150\u001b[39m w1_current_string_index += \u001b[38;5;28mlen\u001b[39m(full_token_1)\n",
      "\u001b[31mUnboundLocalError\u001b[39m: cannot access local variable 'w1_current_string_index' where it is not associated with a value"
     ]
    }
   ],
   "source": [
    "def test1():\n",
    "    xpath_expr = \"//tei:body/tei:div[1]//tei:div[@type='section']\"\n",
    "    xfstr_1 = Witness(\n",
    "        file_path=\"../data/source/sfe-1901-002__1901.1_sections.xml\",\n",
    "        text_container_xpath=xpath_expr,\n",
    "    )\n",
    "\n",
    "    w1 = xfstr_1\n",
    "    for t in w1.text_chuncks:\n",
    "        t.test()\n",
    "        input()\n",
    "\n",
    "\n",
    "def test2():\n",
    "    xpath_expr = \"//tei:body/tei:div[1]//tei:div[@type='section']\"\n",
    "    witness_1 = Witness(\n",
    "        file_path=\"../data/source/sfe-1901-002__1901.1_sections.xml\",\n",
    "        text_container_xpath=xpath_expr,\n",
    "        sigil=\"witness_1\",\n",
    "    )\n",
    "    witness_2 = Witness(\n",
    "        file_path=\"../data/source/sfe-1901-002__1901.3_sections.xml\",\n",
    "        text_container_xpath=xpath_expr,\n",
    "        sigil=\"witness_2\",\n",
    "    )\n",
    "    witness_1.collatex_with_witness(witness_2, test=True)\n",
    "\n",
    "\n",
    "test2()"
   ]
  }
 ],
 "metadata": {
  "kernelspec": {
   "display_name": ".venv",
   "language": "python",
   "name": "python3"
  },
  "language_info": {
   "codemirror_mode": {
    "name": "ipython",
    "version": 3
   },
   "file_extension": ".py",
   "mimetype": "text/x-python",
   "name": "python",
   "nbconvert_exporter": "python",
   "pygments_lexer": "ipython3",
   "version": "3.12.3"
  }
 },
 "nbformat": 4,
 "nbformat_minor": 5
}
