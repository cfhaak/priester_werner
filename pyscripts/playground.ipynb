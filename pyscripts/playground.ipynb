{
 "cells": [
  {
   "cell_type": "code",
   "execution_count": 1,
   "id": "50940a95",
   "metadata": {},
   "outputs": [],
   "source": [
    "from xml_text_extractor import Witness"
   ]
  },
  {
   "cell_type": "code",
   "execution_count": null,
   "id": "87417006",
   "metadata": {},
   "outputs": [
    {
     "name": "stdout",
     "output_type": "stream",
     "text": [
      "checking results\n",
      "\n",
      "generating collatex data for witness_1\n",
      "generating collatex data for witness_2\n",
      "collatex adding witness witness_1 chunck 1\n",
      "collatex adding witness witness_2 chunck 1\n",
      "Creating alignment table 1 of 1. This might take loooooong.\n"
     ]
    }
   ],
   "source": [
    "def test1():\n",
    "    xpath_expr = \"//tei:body/tei:div[1]//tei:div[@type='section']\"\n",
    "    xfstr_1 = Witness(\n",
    "        file_path=\"../data/source/sfe-1901-002__1901.1_sections.xml\",\n",
    "        text_container_xpath=xpath_expr,\n",
    "    )\n",
    "\n",
    "    w1 = xfstr_1\n",
    "    for t in w1.text_chuncks:\n",
    "        t.test()\n",
    "        input()\n",
    "\n",
    "\n",
    "def test2():\n",
    "    xpath_expr = \"//tei:body/tei:div[1]//tei:div[@type='section']\"\n",
    "    witness_1 = Witness(\n",
    "        file_path=\"../data/source/sfe-1901-002__1901.1_sections.xml\",\n",
    "        text_container_xpath=xpath_expr,\n",
    "        sigil=\"witness_1\",\n",
    "    )\n",
    "    witness_2 = Witness(\n",
    "        file_path=\"../data/source/sfe-1901-002__1901.3_sections.xml\",\n",
    "        text_container_xpath=xpath_expr,\n",
    "        sigil=\"witness_2\",\n",
    "    )\n",
    "    witness_1.collatex_with_witness(witness_2, test=True)\n",
    "\n",
    "\n",
    "test2()"
   ]
  }
 ],
 "metadata": {
  "kernelspec": {
   "display_name": ".venv",
   "language": "python",
   "name": "python3"
  },
  "language_info": {
   "codemirror_mode": {
    "name": "ipython",
    "version": 3
   },
   "file_extension": ".py",
   "mimetype": "text/x-python",
   "name": "python",
   "nbconvert_exporter": "python",
   "pygments_lexer": "ipython3",
   "version": "3.12.3"
  }
 },
 "nbformat": 4,
 "nbformat_minor": 5
}
